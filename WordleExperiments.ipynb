{
  "cells": [
    {
      "cell_type": "code",
      "execution_count": null,
      "metadata": {
        "id": "6eof_3KL52fL"
      },
      "outputs": [],
      "source": [
        "import itertools\n",
        "import pandas as pd\n",
        "import seaborn as sns\n",
        "from copy import deepcopy\n",
        "import numpy as np\n",
        "import random"
      ]
    },
    {
      "cell_type": "code",
      "execution_count": null,
      "metadata": {
        "id": "ZAcJ_BZhAC9u"
      },
      "outputs": [],
      "source": [
        "df = pd.read_csv(\"/content/unigram_freq.csv\")\n",
        "df.head()"
      ]
    },
    {
      "cell_type": "code",
      "execution_count": null,
      "metadata": {
        "id": "CrRztiybhOiM"
      },
      "outputs": [],
      "source": [
        "allwords = []\n",
        "with open(\"/content/words_alpha.txt\") as f:\n",
        "    allwords = f.readlines()\n",
        "\n",
        "fiveLetterWords = list(map(lambda x : x[:-1], filter(lambda x : len(x) == 6, allwords)))\n",
        "fourLetterWords = list(map(lambda x : x[:-1], filter(lambda x : len(x) == 5, allwords)))"
      ]
    },
    {
      "cell_type": "code",
      "execution_count": null,
      "metadata": {
        "colab": {
          "base_uri": "https://localhost:8080/"
        },
        "id": "Dxxpdhy4TlRW",
        "outputId": "ec849478-c866-4a6d-9a1b-b2f0262870ac"
      },
      "outputs": [
        {
          "name": "stdout",
          "output_type": "stream",
          "text": [
            "15918\n",
            "13546\n"
          ]
        }
      ],
      "source": [
        "# Eliminating plurals\n",
        "\n",
        "print(len(fiveLetterWords))\n",
        "\n",
        "for word in fiveLetterWords:\n",
        "    if word[-1] == 's':\n",
        "        if word[:-1] in fourLetterWords:\n",
        "            fiveLetterWords.remove(word)\n",
        "\n",
        "print(len(fiveLetterWords))"
      ]
    },
    {
      "cell_type": "code",
      "execution_count": null,
      "metadata": {
        "id": "DBmlaMw0AF11"
      },
      "outputs": [],
      "source": [
        "temp = []\n",
        "cnt = 0\n",
        "\n",
        "for word in fiveLetterWords:\n",
        "    cnt += 1\n",
        "    if word in df['word'].to_numpy():\n",
        "        temp.append((word, int(df[df['word'] == word]['count'])))\n",
        "        print(cnt)"
      ]
    },
    {
      "cell_type": "code",
      "execution_count": null,
      "metadata": {
        "id": "GFsw9PAuAIro"
      },
      "outputs": [],
      "source": [
        "newDict = sorted(temp, key = lambda x : x[1], reverse=True)[:5000]\n",
        "newDict"
      ]
    },
    {
      "cell_type": "code",
      "execution_count": null,
      "metadata": {
        "id": "qkVIh9i_ARhS"
      },
      "outputs": [],
      "source": [
        "fiveLetterWords = []\n",
        "\n",
        "for word in newDict:\n",
        "    fiveLetterWords.append(word[0])\n",
        "\n",
        "fiveLetterWords"
      ]
    },
    {
      "cell_type": "markdown",
      "metadata": {
        "id": "dOXcSGfe-6dl"
      },
      "source": [
        "# Letter Distribution (multiple times in word counted)"
      ]
    },
    {
      "cell_type": "code",
      "execution_count": null,
      "metadata": {
        "id": "q3PCk-i265fn"
      },
      "outputs": [],
      "source": [
        "letterCount = dict()\n",
        "\n",
        "for _ in range(97, 123):\n",
        "    letterCount[chr(_)] = 0\n",
        "\n",
        "for word in fiveLetterWords:\n",
        "    letterCount[word[0]] += 1\n",
        "    letterCount[word[1]] += 1\n",
        "    letterCount[word[2]] += 1\n",
        "    letterCount[word[3]] += 1\n",
        "    letterCount[word[4]] += 1\n",
        "\n",
        "temp = {'letter' : [], 'count' : []}\n",
        "\n",
        "for item in letterCount.items():\n",
        "    temp['letter'].append(item[0])\n",
        "    temp['count'].append(item[1])\n",
        "\n",
        "letterCount = deepcopy(temp)\n",
        "letterCount"
      ]
    },
    {
      "cell_type": "code",
      "execution_count": null,
      "metadata": {
        "id": "58378Igl8rws"
      },
      "outputs": [],
      "source": [
        "df = pd.DataFrame.from_dict(data=letterCount)\n",
        "df"
      ]
    },
    {
      "cell_type": "code",
      "execution_count": null,
      "metadata": {
        "colab": {
          "base_uri": "https://localhost:8080/",
          "height": 296
        },
        "id": "Qb8yB91g-N8m",
        "outputId": "1f5790b1-9400-421e-a60b-defaa9cad65e"
      },
      "outputs": [
        {
          "data": {
            "text/plain": [
              "<matplotlib.axes._subplots.AxesSubplot at 0x7f82ace0b490>"
            ]
          },
          "execution_count": 58,
          "metadata": {},
          "output_type": "execute_result"
        },
        {
          "data": {
            "image/png": "[encoded data removed]",
            "text/plain": [
              "<Figure size 432x288 with 1 Axes>"
            ]
          },
          "metadata": {
            "needs_background": "light"
          },
          "output_type": "display_data"
        }
      ],
      "source": [
        "sns.barplot(x = df['letter'], y = df['count'])"
      ]
    },
    {
      "cell_type": "markdown",
      "metadata": {
        "id": "BlcclEbC_Cd6"
      },
      "source": [
        "# Letter Distribution (multiple occurences in word not counted)"
      ]
    },
    {
      "cell_type": "code",
      "execution_count": null,
      "metadata": {
        "id": "NYUloOj2_NVH"
      },
      "outputs": [],
      "source": [
        "letterCount = dict()\n",
        "\n",
        "for _ in range(97, 123):\n",
        "    letterCount[chr(_)] = 0\n",
        "\n",
        "for word in fiveLetterWords:\n",
        "    for letter in np.unique(np.array(list(word))):\n",
        "        letterCount[letter] += 1\n",
        "\n",
        "temp = {'letter' : [], 'count' : []}\n",
        "\n",
        "for item in letterCount.items():\n",
        "    temp['letter'].append(item[0])\n",
        "    temp['count'].append(item[1])\n",
        "\n",
        "letterCount = deepcopy(temp)\n",
        "letterCount"
      ]
    },
    {
      "cell_type": "code",
      "execution_count": null,
      "metadata": {
        "id": "QYtez9dr_VnM"
      },
      "outputs": [],
      "source": [
        "df = pd.DataFrame.from_dict(data=letterCount)\n",
        "df"
      ]
    },
    {
      "cell_type": "code",
      "execution_count": null,
      "metadata": {
        "id": "pphG5t6r_Xd9"
      },
      "outputs": [],
      "source": [
        "sns.barplot(x = df['letter'], y = df['count'])"
      ]
    },
    {
      "cell_type": "markdown",
      "metadata": {
        "id": "aIw_Y8ueA1bd"
      },
      "source": [
        "# Monte Carlo Simulations to choose best first word"
      ]
    },
    {
      "cell_type": "code",
      "execution_count": null,
      "metadata": {
        "id": "imwJBT4eDuUS"
      },
      "outputs": [],
      "source": [
        "results = dict()\n",
        "for word in fiveLetterWords:\n",
        "    results[word] = 0"
      ]
    },
    {
      "cell_type": "code",
      "execution_count": null,
      "metadata": {
        "id": "XaLNj_9HA9Vs"
      },
      "outputs": [],
      "source": [
        "for _ in range(100000):\n",
        "    target = random.choice(fiveLetterWords)\n",
        "\n",
        "    for word in fiveLetterWords:\n",
        "        score = 0\n",
        "\n",
        "        if word == target:\n",
        "            continue\n",
        "\n",
        "        for i in range(5):\n",
        "            if target[i] == word[i]:\n",
        "                score += 2\n",
        "            elif target[i] in word:\n",
        "                score += 1\n",
        "            else:\n",
        "                score -= 1\n",
        "        \n",
        "        results[word] += score\n",
        "    \n",
        "    if (_  + 1) % 100 == 0:\n",
        "        resitems = results.items()\n",
        "        print(f\"{_ + 1} : \", sorted(resitems, key = lambda x : x[1], reverse = True)[:10])"
      ]
    },
    {
      "cell_type": "code",
      "execution_count": null,
      "metadata": {
        "id": "lnGMtGkPF5Yk"
      },
      "outputs": [],
      "source": [
        "temp = {'word' : [], 'score' : []}\n",
        "\n",
        "resitems = results.items()\n",
        "resitems = sorted(resitems, key = lambda x : x[1], reverse = True)[:10]\n",
        "\n",
        "for item in resitems:\n",
        "    temp['word'].append(item[0])\n",
        "    temp['score'].append(item[1])\n",
        "\n",
        "scores = deepcopy(temp)\n",
        "scores"
      ]
    },
    {
      "cell_type": "code",
      "execution_count": null,
      "metadata": {
        "id": "nBxozu-4G2uq"
      },
      "outputs": [],
      "source": [
        "df = pd.DataFrame.from_dict(data=scores)\n",
        "\n",
        "sns.barplot(x = df['word'], y = df['score'])"
      ]
    },
    {
      "cell_type": "markdown",
      "metadata": {
        "id": "FvL0OycWso13"
      },
      "source": [
        "# v2.0"
      ]
    },
    {
      "cell_type": "markdown",
      "metadata": {
        "id": "Qz9ZtZVZvWZS"
      },
      "source": [
        "## Revised Dictionary Selection to include common words only"
      ]
    },
    {
      "cell_type": "code",
      "execution_count": null,
      "metadata": {
        "colab": {
          "base_uri": "https://localhost:8080/",
          "height": 204
        },
        "id": "doyLZ3G0ss7t",
        "outputId": "1d172d75-72c7-4ea3-9281-8dc6095bc7bb"
      },
      "outputs": [
        {
          "data": {
            "text/html": [
              "\n",
              "  <div id=\"df-47c0fbc3-965f-48b2-92f4-d0aafe15064f\">\n",
              "    <div class=\"colab-df-container\">\n",
              "      <div>\n",
              "<style scoped>\n",
              "    .dataframe tbody tr th:only-of-type {\n",
              "        vertical-align: middle;\n",
              "    }\n",
              "\n",
              "    .dataframe tbody tr th {\n",
              "        vertical-align: top;\n",
              "    }\n",
              "\n",
              "    .dataframe thead th {\n",
              "        text-align: right;\n",
              "    }\n",
              "</style>\n",
              "<table border=\"1\" class=\"dataframe\">\n",
              "  <thead>\n",
              "    <tr style=\"text-align: right;\">\n",
              "      <th></th>\n",
              "      <th>word</th>\n",
              "      <th>count</th>\n",
              "    </tr>\n",
              "  </thead>\n",
              "  <tbody>\n",
              "    <tr>\n",
              "      <th>0</th>\n",
              "      <td>the</td>\n",
              "      <td>23135851162</td>\n",
              "    </tr>\n",
              "    <tr>\n",
              "      <th>1</th>\n",
              "      <td>of</td>\n",
              "      <td>13151942776</td>\n",
              "    </tr>\n",
              "    <tr>\n",
              "      <th>2</th>\n",
              "      <td>and</td>\n",
              "      <td>12997637966</td>\n",
              "    </tr>\n",
              "    <tr>\n",
              "      <th>3</th>\n",
              "      <td>to</td>\n",
              "      <td>12136980858</td>\n",
              "    </tr>\n",
              "    <tr>\n",
              "      <th>4</th>\n",
              "      <td>a</td>\n",
              "      <td>9081174698</td>\n",
              "    </tr>\n",
              "  </tbody>\n",
              "</table>\n",
              "</div>\n",
              "      <button class=\"colab-df-convert\" onclick=\"convertToInteractive('df-47c0fbc3-965f-48b2-92f4-d0aafe15064f')\"\n",
              "              title=\"Convert this dataframe to an interactive table.\"\n",
              "              style=\"display:none;\">\n",
              "        \n",
              "  <svg xmlns=\"http://www.w3.org/2000/svg\" height=\"24px\"viewBox=\"0 0 24 24\"\n",
              "       width=\"24px\">\n",
              "    <path d=\"M0 0h24v24H0V0z\" fill=\"none\"/>\n",
              "    <path d=\"M18.56 5.44l.94 2.06.94-2.06 2.06-.94-2.06-.94-.94-2.06-.94 2.06-2.06.94zm-11 1L8.5 8.5l.94-2.06 2.06-.94-2.06-.94L8.5 2.5l-.94 2.06-2.06.94zm10 10l.94 2.06.94-2.06 2.06-.94-2.06-.94-.94-2.06-.94 2.06-2.06.94z\"/><path d=\"M17.41 7.96l-1.37-1.37c-.4-.4-.92-.59-1.43-.59-.52 0-1.04.2-1.43.59L10.3 9.45l-7.72 7.72c-.78.78-.78 2.05 0 2.83L4 21.41c.39.39.9.59 1.41.59.51 0 1.02-.2 1.41-.59l7.78-7.78 2.81-2.81c.8-.78.8-2.07 0-2.86zM5.41 20L4 18.59l7.72-7.72 1.47 1.35L5.41 20z\"/>\n",
              "  </svg>\n",
              "      </button>\n",
              "      \n",
              "  <style>\n",
              "    .colab-df-container {\n",
              "      display:flex;\n",
              "      flex-wrap:wrap;\n",
              "      gap: 12px;\n",
              "    }\n",
              "\n",
              "    .colab-df-convert {\n",
              "      background-color: #E8F0FE;\n",
              "      border: none;\n",
              "      border-radius: 50%;\n",
              "      cursor: pointer;\n",
              "      display: none;\n",
              "      fill: #1967D2;\n",
              "      height: 32px;\n",
              "      padding: 0 0 0 0;\n",
              "      width: 32px;\n",
              "    }\n",
              "\n",
              "    .colab-df-convert:hover {\n",
              "      background-color: #E2EBFA;\n",
              "      box-shadow: 0px 1px 2px rgba(60, 64, 67, 0.3), 0px 1px 3px 1px rgba(60, 64, 67, 0.15);\n",
              "      fill: #174EA6;\n",
              "    }\n",
              "\n",
              "    [theme=dark] .colab-df-convert {\n",
              "      background-color: #3B4455;\n",
              "      fill: #D2E3FC;\n",
              "    }\n",
              "\n",
              "    [theme=dark] .colab-df-convert:hover {\n",
              "      background-color: #434B5C;\n",
              "      box-shadow: 0px 1px 3px 1px rgba(0, 0, 0, 0.15);\n",
              "      filter: drop-shadow(0px 1px 2px rgba(0, 0, 0, 0.3));\n",
              "      fill: #FFFFFF;\n",
              "    }\n",
              "  </style>\n",
              "\n",
              "      <script>\n",
              "        const buttonEl =\n",
              "          document.querySelector('#df-47c0fbc3-965f-48b2-92f4-d0aafe15064f button.colab-df-convert');\n",
              "        buttonEl.style.display =\n",
              "          google.colab.kernel.accessAllowed ? 'block' : 'none';\n",
              "\n",
              "        async function convertToInteractive(key) {\n",
              "          const element = document.querySelector('#df-47c0fbc3-965f-48b2-92f4-d0aafe15064f');\n",
              "          const dataTable =\n",
              "            await google.colab.kernel.invokeFunction('convertToInteractive',\n",
              "                                                     [key], {});\n",
              "          if (!dataTable) return;\n",
              "\n",
              "          const docLinkHtml = 'Like what you see? Visit the ' +\n",
              "            '<a target=\"_blank\" href=https://colab.research.google.com/notebooks/data_table.ipynb>data table notebook</a>'\n",
              "            + ' to learn more about interactive tables.';\n",
              "          element.innerHTML = '';\n",
              "          dataTable['output_type'] = 'display_data';\n",
              "          await google.colab.output.renderOutput(dataTable, element);\n",
              "          const docLink = document.createElement('div');\n",
              "          docLink.innerHTML = docLinkHtml;\n",
              "          element.appendChild(docLink);\n",
              "        }\n",
              "      </script>\n",
              "    </div>\n",
              "  </div>\n",
              "  "
            ],
            "text/plain": [
              "  word        count\n",
              "0  the  23135851162\n",
              "1   of  13151942776\n",
              "2  and  12997637966\n",
              "3   to  12136980858\n",
              "4    a   9081174698"
            ]
          },
          "execution_count": 42,
          "metadata": {},
          "output_type": "execute_result"
        }
      ],
      "source": [
        "df = pd.read_csv(\"/content/unigram_freq.csv\")\n",
        "df.head()"
      ]
    },
    {
      "cell_type": "code",
      "execution_count": null,
      "metadata": {
        "id": "8UTJBXJTwAeb"
      },
      "outputs": [],
      "source": [
        "allwords = []\n",
        "with open(\"/content/words_alpha.txt\") as f:\n",
        "    allwords = f.readlines()\n",
        "\n",
        "fiveLetterWords = list(map(lambda x : x[:-1], filter(lambda x : len(x) == 6, allwords)))\n",
        "fourLetterWords = list(map(lambda x : x[:-1], filter(lambda x : len(x) == 5, allwords)))"
      ]
    },
    {
      "cell_type": "code",
      "execution_count": null,
      "metadata": {
        "colab": {
          "base_uri": "https://localhost:8080/"
        },
        "id": "eSKRAoH60cgt",
        "outputId": "3d6d4827-3aab-4b06-d470-ca35e158e865"
      },
      "outputs": [
        {
          "name": "stdout",
          "output_type": "stream",
          "text": [
            "15918\n",
            "13546\n"
          ]
        }
      ],
      "source": [
        "# Eliminating plurals\n",
        "\n",
        "print(len(fiveLetterWords))\n",
        "\n",
        "for word in fiveLetterWords:\n",
        "    if word[-1] == 's':\n",
        "        if word[:-1] in fourLetterWords:\n",
        "            fiveLetterWords.remove(word)\n",
        "\n",
        "print(len(fiveLetterWords))"
      ]
    },
    {
      "cell_type": "code",
      "execution_count": null,
      "metadata": {
        "id": "OPHv9vzy0eCJ"
      },
      "outputs": [],
      "source": [
        "temp = []\n",
        "cnt = 0\n",
        "\n",
        "for word in fiveLetterWords:\n",
        "    cnt += 1\n",
        "    if word in df['word'].to_numpy():\n",
        "        temp.append((word, int(df[df['word'] == word]['count'])))\n",
        "        print(cnt)"
      ]
    },
    {
      "cell_type": "code",
      "execution_count": null,
      "metadata": {
        "id": "EpcV4EJ7_EKJ"
      },
      "outputs": [],
      "source": [
        "fiveLetterWords = sorted(temp, key = lambda x : x[1], reverse=True)[:5000]\n",
        "fiveLetterWords"
      ]
    },
    {
      "cell_type": "markdown",
      "metadata": {
        "id": "kd24vkTxF2zf"
      },
      "source": [
        "# Designing Simulations"
      ]
    },
    {
      "cell_type": "code",
      "execution_count": null,
      "metadata": {
        "id": "lXjEBKAS_QYk"
      },
      "outputs": [],
      "source": []
    }
  ],
  "metadata": {
    "colab": {
      "collapsed_sections": [],
      "name": "WordleExperiments.ipynb",
      "provenance": []
    },
    "kernelspec": {
      "display_name": "Python 3",
      "name": "python3"
    }
  },
  "nbformat": 4,
  "nbformat_minor": 0
}
